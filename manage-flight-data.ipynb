{
 "cells": [
  {
   "cell_type": "markdown",
   "id": "3919d647",
   "metadata": {},
   "source": [
    "# Flight Delay Prediction Model\n",
    "\n",
    "This notebook creates a machine learning model to predict flight delays based on day of week and airport.\n",
    "We will:\n",
    "1. Load and explore the flight data\n",
    "2. Clean the data by handling missing values\n",
    "3. Create a model to predict delays > 15 minutes\n",
    "4. Save the model for external use\n",
    "5. Export airport data to a separate file"
   ]
  },
  {
   "cell_type": "code",
   "execution_count": null,
   "id": "47ab1241",
   "metadata": {},
   "outputs": [],
   "source": [
    "# Import necessary libraries\n",
    "import pandas as pd\n",
    "import numpy as np\n",
    "from sklearn.model_selection import train_test_split\n",
    "from sklearn.ensemble import RandomForestClassifier\n",
    "from sklearn.metrics import accuracy_score, classification_report\n",
    "import pickle\n",
    "import os"
   ]
  },
  {
   "cell_type": "code",
   "execution_count": null,
   "id": "5512147f",
   "metadata": {},
   "outputs": [],
   "source": [
    "# Load the flight data\n",
    "# The data file contains information about flights in the US in 2013\n",
    "df = pd.read_csv('data/flights.csv')\n",
    "\n",
    "print(f\"Dataset shape: {df.shape}\")\n",
    "print(\"\\nFirst 5 rows:\")\n",
    "df.head()"
   ]
  },
  {
   "cell_type": "code",
   "execution_count": null,
   "id": "ce0cbac5",
   "metadata": {},
   "outputs": [],
   "source": [
    "# Explore the dataset structure\n",
    "print(\"Dataset information:\")\n",
    "print(df.info())\n",
    "\n",
    "print(\"\\nColumn descriptions:\")\n",
    "print(\"- DayOfWeek: Day of the week (1=Monday, 7=Sunday)\")\n",
    "print(\"- OriginAirportID: Unique identifier for origin airport\")\n",
    "print(\"- DepDel15: 1 if departure delayed >15 minutes, 0 otherwise\")\n",
    "print(\"- ArrDel15: 1 if arrival delayed >15 minutes, 0 otherwise\")"
   ]
  },
  {
   "cell_type": "code",
   "execution_count": null,
   "id": "6f927b84",
   "metadata": {},
   "outputs": [],
   "source": [
    "# Check for missing values\n",
    "print(\"Missing values per column:\")\n",
    "missing_values = df.isnull().sum()\n",
    "print(missing_values[missing_values > 0])\n",
    "\n",
    "print(\"\\nUnique values in key columns:\")\n",
    "print(f\"Days of week: {sorted(df['DayOfWeek'].unique())}\")\n",
    "print(f\"Number of unique airports: {df['OriginAirportID'].nunique()}\")\n",
    "print(f\"Delay distribution (DepDel15): {df['DepDel15'].value_counts().to_dict()}\")"
   ]
  },
  {
   "cell_type": "code",
   "execution_count": null,
   "id": "9646f95a",
   "metadata": {},
   "outputs": [],
   "source": [
    "# Data cleaning: Replace null values with 0 (as specified in requirements)\n",
    "print(\"Cleaning data: replacing null values with 0...\")\n",
    "\n",
    "# Fill missing values with 0\n",
    "df_clean = df.fillna(0)\n",
    "\n",
    "print(\"After cleaning:\")\n",
    "print(f\"Missing values: {df_clean.isnull().sum().sum()}\")\n",
    "\n",
    "# Ensure DepDel15 is binary (0 or 1)\n",
    "df_clean['DepDel15'] = df_clean['DepDel15'].astype(int)\n",
    "\n",
    "print(f\"\\nDelay distribution after cleaning: {df_clean['DepDel15'].value_counts().to_dict()}\")"
   ]
  },
  {
   "cell_type": "code",
   "execution_count": null,
   "id": "cd9ee6df",
   "metadata": {},
   "outputs": [],
   "source": [
    "# Prepare data for machine learning\n",
    "# Features: DayOfWeek and OriginAirportID\n",
    "# Target: DepDel15 (1 if delayed >15 minutes, 0 otherwise)\n",
    "\n",
    "# Select features and target\n",
    "features = ['DayOfWeek', 'OriginAirportID']\n",
    "X = df_clean[features]\n",
    "y = df_clean['DepDel15']\n",
    "\n",
    "print(f\"Features shape: {X.shape}\")\n",
    "print(f\"Target shape: {y.shape}\")\n",
    "print(f\"\\nFeature statistics:\")\n",
    "print(X.describe())"
   ]
  },
  {
   "cell_type": "code",
   "execution_count": null,
   "id": "e785e349",
   "metadata": {},
   "outputs": [],
   "source": [
    "# Split data into training and testing sets\n",
    "X_train, X_test, y_train, y_test = train_test_split(\n",
    "    X, y, test_size=0.2, random_state=42, stratify=y\n",
    ")\n",
    "\n",
    "print(f\"Training set size: {X_train.shape[0]}\")\n",
    "print(f\"Testing set size: {X_test.shape[0]}\")\n",
    "print(f\"\\nClass distribution in training set:\")\n",
    "print(y_train.value_counts(normalize=True))"
   ]
  },
  {
   "cell_type": "code",
   "execution_count": null,
   "id": "6e9b4179",
   "metadata": {},
   "outputs": [],
   "source": [
    "# Create and train the machine learning model\n",
    "# Using Random Forest Classifier which works well for this type of problem\n",
    "\n",
    "print(\"Training Random Forest model...\")\n",
    "\n",
    "# Create the model\n",
    "model = RandomForestClassifier(\n",
    "    n_estimators=100,  # Number of trees\n",
    "    random_state=42,   # For reproducibility\n",
    "    max_depth=10,      # Prevent overfitting\n",
    "    min_samples_split=5\n",
    ")\n",
    "\n",
    "# Train the model\n",
    "model.fit(X_train, y_train)\n",
    "\n",
    "print(\"Model training completed!\")"
   ]
  },
  {
   "cell_type": "code",
   "execution_count": null,
   "id": "deac3483",
   "metadata": {},
   "outputs": [],
   "source": [
    "# Evaluate the model performance\n",
    "print(\"Evaluating model performance...\")\n",
    "\n",
    "# Make predictions\n",
    "y_pred = model.predict(X_test)\n",
    "y_pred_proba = model.predict_proba(X_test)[:, 1]  # Probability of delay\n",
    "\n",
    "# Calculate accuracy\n",
    "accuracy = accuracy_score(y_test, y_pred)\n",
    "print(f\"Model accuracy: {accuracy:.4f}\")\n",
    "\n",
    "# Detailed classification report\n",
    "print(\"\\nClassification Report:\")\n",
    "print(classification_report(y_test, y_pred))\n",
    "\n",
    "# Feature importance\n",
    "feature_importance = pd.DataFrame({\n",
    "    'feature': features,\n",
    "    'importance': model.feature_importances_\n",
    "}).sort_values('importance', ascending=False)\n",
    "\n",
    "print(\"\\nFeature Importance:\")\n",
    "print(feature_importance)"
   ]
  },
  {
   "cell_type": "code",
   "execution_count": null,
   "id": "799fb553",
   "metadata": {},
   "outputs": [],
   "source": [
    "# Test the model with example predictions\n",
    "print(\"Testing model with examples:\")\n",
    "\n",
    "# Example: Monday (1) at Chicago O'Hare (13930)\n",
    "example_1 = [[1, 13930]]\n",
    "prob_1 = model.predict_proba(example_1)[0][1]\n",
    "print(f\"Probability of delay on Monday at Chicago O'Hare: {prob_1:.4f} ({prob_1*100:.2f}%)\")\n",
    "\n",
    "# Example: Friday (5) at JFK (12478)\n",
    "example_2 = [[5, 12478]]\n",
    "prob_2 = model.predict_proba(example_2)[0][1]\n",
    "print(f\"Probability of delay on Friday at JFK: {prob_2:.4f} ({prob_2*100:.2f}%)\")\n",
    "\n",
    "# Example: Sunday (7) at LAX (12892)\n",
    "example_3 = [[7, 12892]]\n",
    "prob_3 = model.predict_proba(example_3)[0][1]\n",
    "print(f\"Probability of delay on Sunday at LAX: {prob_3:.4f} ({prob_3*100:.2f}%)\")"
   ]
  },
  {
   "cell_type": "code",
   "execution_count": null,
   "id": "277f46a0",
   "metadata": {},
   "outputs": [],
   "source": [
    "# Save the trained model to a file\n",
    "print(\"Saving the model...\")\n",
    "\n",
    "# Create a directory for the model if it doesn't exist\n",
    "os.makedirs('model', exist_ok=True)\n",
    "\n",
    "# Save the model using pickle\n",
    "model_filename = 'model/flight_delay_model.pkl'\n",
    "with open(model_filename, 'wb') as file:\n",
    "    pickle.dump(model, file)\n",
    "\n",
    "print(f\"Model saved to: {model_filename}\")\n",
    "\n",
    "# Also save feature names for reference\n",
    "feature_info = {\n",
    "    'features': features,\n",
    "    'model_type': 'RandomForestClassifier',\n",
    "    'accuracy': accuracy,\n",
    "    'description': 'Predicts probability of flight delay >15 minutes based on day of week and airport'\n",
    "}\n",
    "\n",
    "with open('model/model_info.pkl', 'wb') as file:\n",
    "    pickle.dump(feature_info, file)\n",
    "\n",
    "print(\"Model information saved to: model/model_info.pkl\")"
   ]
  },
  {
   "cell_type": "code",
   "execution_count": null,
   "id": "d2d451d2",
   "metadata": {},
   "outputs": [],
   "source": [
    "# Create airports CSV file with all airport names and IDs\n",
    "print(\"Creating airports CSV file...\")\n",
    "\n",
    "# Extract unique airports from both origin and destination\n",
    "origin_airports = df_clean[['OriginAirportID', 'OriginAirportName', 'OriginCity', 'OriginState']].copy()\n",
    "origin_airports.columns = ['AirportID', 'AirportName', 'City', 'State']\n",
    "\n",
    "dest_airports = df_clean[['DestAirportID', 'DestAirportName', 'DestCity', 'DestState']].copy()\n",
    "dest_airports.columns = ['AirportID', 'AirportName', 'City', 'State']\n",
    "\n",
    "# Combine and remove duplicates\n",
    "all_airports = pd.concat([origin_airports, dest_airports]).drop_duplicates(subset=['AirportID'])\n",
    "all_airports = all_airports.sort_values('AirportID').reset_index(drop=True)\n",
    "\n",
    "print(f\"Total unique airports: {len(all_airports)}\")\n",
    "print(\"\\nFirst 5 airports:\")\n",
    "print(all_airports.head())\n",
    "\n",
    "# Save to CSV\n",
    "airports_filename = 'data/airports.csv'\n",
    "all_airports.to_csv(airports_filename, index=False)\n",
    "print(f\"\\nAirports data saved to: {airports_filename}\")"
   ]
  },
  {
   "cell_type": "code",
   "execution_count": null,
   "id": "4d8c90e6",
   "metadata": {},
   "outputs": [],
   "source": [
    "# Summary of what we accomplished\n",
    "print(\"=== SUMMARY ===\")\n",
    "print(f\"✅ Loaded and cleaned {df.shape[0]:,} flight records\")\n",
    "print(f\"✅ Created Random Forest model with {accuracy:.4f} accuracy\")\n",
    "print(f\"✅ Saved model to: {model_filename}\")\n",
    "print(f\"✅ Created airports file with {len(all_airports)} unique airports\")\n",
    "print(f\"✅ Saved airports to: {airports_filename}\")\n",
    "print(\"\\n🎯 The model can now predict flight delay probabilities based on day of week and airport!\")\n",
    "print(\"\\n📁 Files created:\")\n",
    "print(f\"   - {model_filename}\")\n",
    "print(f\"   - model/model_info.pkl\")\n",
    "print(f\"   - {airports_filename}\")"
   ]
  }
 ],
 "metadata": {
  "language_info": {
   "name": "python"
  }
 },
 "nbformat": 4,
 "nbformat_minor": 5
}
